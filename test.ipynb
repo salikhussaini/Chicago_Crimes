{
 "cells": [
  {
   "cell_type": "code",
   "execution_count": 1,
   "metadata": {},
   "outputs": [],
   "source": [
    "import pandas as pd\n"
   ]
  },
  {
   "cell_type": "code",
   "execution_count": 3,
   "metadata": {},
   "outputs": [
    {
     "data": {
      "text/plain": [
       "Index(['ID', 'Case Number', 'Date', 'Block', 'IUCR', 'Primary Type',\n",
       "       'Description', 'Location Description', 'Arrest', 'Domestic', 'Beat',\n",
       "       'District', 'Ward', 'Community Area', 'FBI Code', 'X Coordinate',\n",
       "       'Y Coordinate', 'Year', 'Updated On', 'Latitude', 'Longitude',\n",
       "       'Location', 'Month'],\n",
       "      dtype='object')"
      ]
     },
     "execution_count": 3,
     "metadata": {},
     "output_type": "execute_result"
    }
   ],
   "source": [
    "df = pd.read_csv('RAW/Crime_Year/2022/2022_10.csv')\n",
    "\n",
    "df.columns"
   ]
  },
  {
   "cell_type": "code",
   "execution_count": 43,
   "metadata": {},
   "outputs": [],
   "source": [
    "df = pd.read_csv('Test.csv')\n",
    "df_10 = pd.read_csv('RAW/Crime_Year/2022/2022_10.csv')\n",
    "\n",
    "id_10 = df_10.ID.unique()\n",
    "months = df.Month.unique()\n",
    "for month in months:\n",
    "    for key,value in df[df['Month'] == month].iterrows():\n",
    "        if key == 3:\n",
    "            break\n",
    "        if value['ID'] not in id_10:\n",
    "            \n",
    "            temp_df = df.filter(items = [key], axis = 0).head()\n",
    "            df_10 = pd.concat([df_10,temp_df])\n",
    "            #print(value)\n",
    "\n",
    "df_10.to_csv('RAW/Crime_Year/2022/2022_10.csv', index=None)"
   ]
  }
 ],
 "metadata": {
  "kernelspec": {
   "display_name": "Python 3.9.5 64-bit",
   "language": "python",
   "name": "python3"
  },
  "language_info": {
   "codemirror_mode": {
    "name": "ipython",
    "version": 3
   },
   "file_extension": ".py",
   "mimetype": "text/x-python",
   "name": "python",
   "nbconvert_exporter": "python",
   "pygments_lexer": "ipython3",
   "version": "3.9.5"
  },
  "orig_nbformat": 4,
  "vscode": {
   "interpreter": {
    "hash": "dc0cad3f26a90c091a3c306310ae21ef40109e0ca6ebdc2487a84ee06901ffa2"
   }
  }
 },
 "nbformat": 4,
 "nbformat_minor": 2
}
